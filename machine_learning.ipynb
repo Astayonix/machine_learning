{
 "cells": [
  {
   "cell_type": "code",
   "execution_count": 10,
   "metadata": {
    "collapsed": true
   },
   "outputs": [],
   "source": [
    "import random"
   ]
  },
  {
   "cell_type": "code",
   "execution_count": 8,
   "metadata": {
    "collapsed": true
   },
   "outputs": [],
   "source": [
    "goog_close = [\n",
    "              777.29, 775.01, 781.56, 783.01, 774.21, 786.90, 787.21,\n",
    "              776.22, 771.41, 765.70, 768.88, 771.76, 762.49, 759.69,\n",
    "              769.02, 759.66, 775.32, 780.35, 780.08, 771.46, 768.78\n",
    "             ]"
   ]
  },
  {
   "cell_type": "code",
   "execution_count": 9,
   "metadata": {
    "collapsed": false
   },
   "outputs": [
    {
     "name": "stdout",
     "output_type": "stream",
     "text": [
      "773.61952381\n"
     ]
    }
   ],
   "source": [
    "goog_avg = sum(goog_close)/len(goog_close)\n",
    "print goog_avg"
   ]
  },
  {
   "cell_type": "code",
   "execution_count": 13,
   "metadata": {
    "collapsed": false
   },
   "outputs": [
    {
     "name": "stdout",
     "output_type": "stream",
     "text": [
      "35.780973928\n"
     ]
    }
   ],
   "source": [
    "std_dev = sum([(val - goog_avg)**2 for val in goog_close])**0.5\n",
    "print std_dev"
   ]
  }
 ],
 "metadata": {
  "anaconda-cloud": {},
  "kernelspec": {
   "display_name": "Python [default]",
   "language": "python",
   "name": "python2"
  },
  "language_info": {
   "codemirror_mode": {
    "name": "ipython",
    "version": 2
   },
   "file_extension": ".py",
   "mimetype": "text/x-python",
   "name": "python",
   "nbconvert_exporter": "python",
   "pygments_lexer": "ipython2",
   "version": "2.7.12"
  }
 },
 "nbformat": 4,
 "nbformat_minor": 1
}
